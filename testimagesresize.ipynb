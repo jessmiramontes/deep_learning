{
  "nbformat": 4,
  "nbformat_minor": 0,
  "metadata": {
    "colab": {
      "provenance": [],
      "authorship_tag": "ABX9TyOpUKx5oqHckiivkKqyhDOg",
      "include_colab_link": true
    },
    "kernelspec": {
      "name": "python3",
      "display_name": "Python 3"
    },
    "language_info": {
      "name": "python"
    }
  },
  "cells": [
    {
      "cell_type": "markdown",
      "metadata": {
        "id": "view-in-github",
        "colab_type": "text"
      },
      "source": [
        "<a href=\"https://colab.research.google.com/github/jessmiramontes/deep_learning/blob/main/testimagesresize.ipynb\" target=\"_parent\"><img src=\"https://colab.research.google.com/assets/colab-badge.svg\" alt=\"Open In Colab\"/></a>"
      ]
    },
    {
      "cell_type": "code",
      "execution_count": 1,
      "metadata": {
        "colab": {
          "base_uri": "https://localhost:8080/"
        },
        "id": "ntF65NkQQ35H",
        "outputId": "9469f52b-af5c-4a4a-e6f6-1bad850dff70"
      },
      "outputs": [
        {
          "output_type": "stream",
          "name": "stdout",
          "text": [
            "Mounted at /content/drive\n"
          ]
        }
      ],
      "source": [
        "# This code is to resize the test images\n",
        "from google.colab import drive\n",
        "drive.mount('/content/drive')"
      ]
    },
    {
      "cell_type": "code",
      "source": [
        "import os\n",
        "from tensorflow.keras.preprocessing import image\n",
        "from tensorflow.keras.preprocessing.image import img_to_array, array_to_img\n",
        "\n",
        "# Specify folder paths\n",
        "source_folder_path = '/content/drive/MyDrive/test1'\n",
        "destination_folder_path = '/content/drive/MyDrive/test_resized'\n",
        "\n",
        "# Create the destination folder if it doesn't exist\n",
        "os.makedirs(destination_folder_path, exist_ok=True)\n",
        "\n",
        "# Function to resize and save images\n",
        "def resize_and_save_images(source_folder, destination_folder, target_size=(200, 200)):\n",
        "    for file_name in os.listdir(source_folder):\n",
        "        img_path = os.path.join(source_folder, file_name)\n",
        "        if not os.path.isfile(img_path):\n",
        "            continue\n",
        "        img = image.load_img(img_path, target_size=target_size)\n",
        "        img_array = img_to_array(img)\n",
        "        img_resized = array_to_img(img_array)\n",
        "        save_path = os.path.join(destination_folder, file_name)\n",
        "        img_resized.save(save_path)\n",
        "\n",
        "# Resize all images from the source folder and save them to the destination folder\n",
        "resize_and_save_images(source_folder_path, destination_folder_path)\n",
        "\n",
        "print(\"All images have been resized and saved to the test_resized folder.\")\n"
      ],
      "metadata": {
        "colab": {
          "base_uri": "https://localhost:8080/"
        },
        "id": "qq9JGsx3SnDO",
        "outputId": "4dfd61d5-f781-4d88-f13e-212dd466d28b"
      },
      "execution_count": 5,
      "outputs": [
        {
          "output_type": "stream",
          "name": "stdout",
          "text": [
            "All images have been resized and saved to the test_resized folder.\n"
          ]
        }
      ]
    }
  ]
}